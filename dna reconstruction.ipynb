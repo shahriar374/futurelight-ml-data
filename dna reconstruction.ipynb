{
 "cells": [
  {
   "cell_type": "markdown",
   "id": "ee4ac9d7-81d5-4483-bdbc-e1f45cccaaed",
   "metadata": {},
   "source": [
    "# DNA Reconstruction\n",
    "## Importing necessary libraries"
   ]
  },
  {
   "cell_type": "code",
   "execution_count": 1,
   "id": "e742b69d-6fb4-476b-b444-97d295575569",
   "metadata": {},
   "outputs": [],
   "source": [
    "import pandas as pd\n",
    "import numpy as np\n",
    "from sklearn.model_selection import train_test_split\n",
    "from sklearn.ensemble import RandomForestRegressor\n",
    "from sklearn.preprocessing import LabelEncoder\n",
    "import joblib"
   ]
  },
  {
   "cell_type": "markdown",
   "id": "a5998e45-8cf5-4892-b170-b3ae67cfa56b",
   "metadata": {},
   "source": [
    " ## Load and Prepare the Data"
   ]
  },
  {
   "cell_type": "code",
   "execution_count": 2,
   "id": "6ac82309-26e7-4439-bcef-85e064cb5771",
   "metadata": {},
   "outputs": [],
   "source": [
    "# Load the dataset\n",
    "data_url = 'https://raw.githubusercontent.com/shahriar374/futurelight-ml-data/refs/heads/main/dna_seq_full.csv'\n",
    "data = pd.read_csv(data_url)\n",
    "\n",
    "# Rename columns for clarity\n",
    "data.columns = ['Sequence 1', 'Sequence 2', 'New Sequence']\n",
    "\n",
    "# Encode the sequences using one-hot encoding\n",
    "def one_hot_encode_dna(sequence, max_len):\n",
    "    mapping = {'A': [1, 0, 0, 0], 'C': [0, 1, 0, 0], 'G': [0, 0, 1, 0], 'T': [0, 0, 0, 1]}\n",
    "    encoded = [mapping[base] for base in sequence]\n",
    "    \n",
    "    # Padding or truncating to max_len\n",
    "    if len(encoded) < max_len:\n",
    "        encoded += [[0, 0, 0, 0]] * (max_len - len(encoded))\n",
    "    else:\n",
    "        encoded = encoded[:max_len]\n",
    "    \n",
    "    return np.array(encoded).reshape(-1)\n",
    "\n",
    "# Define the maximum sequence length (use the longest sequence in your data)\n",
    "max_len = 10  # Adjust based on the data\n",
    "\n",
    "# Apply one-hot encoding\n",
    "X1_encoded = np.array([one_hot_encode_dna(seq, max_len) for seq in data['Sequence 1']])\n",
    "X2_encoded = np.array([one_hot_encode_dna(seq, max_len) for seq in data['Sequence 2']])\n",
    "\n",
    "# Concatenate the two sequences as the input\n",
    "X = np.hstack([X1_encoded, X2_encoded])\n",
    "\n",
    "# Encode the target sequence (New Sequence)\n",
    "y = np.array([one_hot_encode_dna(seq, max_len) for seq in data['New Sequence']])\n",
    "\n",
    "# Split data into training and test sets\n",
    "X_train, X_test, y_train, y_test = train_test_split(X, y, test_size=0.2, random_state=42)\n"
   ]
  },
  {
   "cell_type": "markdown",
   "id": "afc2267a-2825-4948-914a-9abab9980c73",
   "metadata": {},
   "source": [
    "## Train the Model"
   ]
  },
  {
   "cell_type": "code",
   "execution_count": 3,
   "id": "07c71421-30cb-4a68-b6b5-020fdc2ff6f1",
   "metadata": {},
   "outputs": [
    {
     "name": "stdout",
     "output_type": "stream",
     "text": [
      "Test Accuracy: 0.723861402505873\n"
     ]
    },
    {
     "data": {
      "text/plain": [
       "['dna_reconstruction_model.pkl']"
      ]
     },
     "execution_count": 3,
     "metadata": {},
     "output_type": "execute_result"
    }
   ],
   "source": [
    "# Create and train the model\n",
    "model = RandomForestRegressor(n_estimators=100, random_state=42)\n",
    "model.fit(X_train, y_train)\n",
    "\n",
    "# Test accuracy\n",
    "test_score = model.score(X_test, y_test)\n",
    "print(f\"Test Accuracy: {test_score}\")\n",
    "\n",
    "# Save the model\n",
    "joblib.dump(model, 'dna_reconstruction_model.pkl')"
   ]
  },
  {
   "cell_type": "markdown",
   "id": "440bbf98-50f0-45e2-9db9-2c160d6b25c9",
   "metadata": {},
   "source": [
    "## Verify the model"
   ]
  },
  {
   "cell_type": "code",
   "execution_count": 6,
   "id": "607a1cdf-8266-436e-ab79-2157ca60a9bf",
   "metadata": {},
   "outputs": [
    {
     "name": "stdout",
     "output_type": "stream",
     "text": [
      "[[0.   0.   1.   ... 0.23 0.45 0.19]\n",
      " [0.   0.   1.   ... 0.   0.   0.  ]\n",
      " [0.   0.   1.   ... 0.   1.   0.  ]\n",
      " ...\n",
      " [0.   0.   1.   ... 0.   1.   0.  ]\n",
      " [0.   0.   1.   ... 0.   1.   0.  ]\n",
      " [0.   0.   1.   ... 0.   0.   1.  ]]\n"
     ]
    }
   ],
   "source": [
    "# Make a test prediction\n",
    "test_prediction = model.predict(X_test)\n",
    "print(test_prediction)"
   ]
  },
  {
   "cell_type": "code",
   "execution_count": null,
   "id": "957f43d3-09a0-44d4-900a-0f8b795304af",
   "metadata": {},
   "outputs": [],
   "source": []
  }
 ],
 "metadata": {
  "kernelspec": {
   "display_name": "Python 3 (ipykernel)",
   "language": "python",
   "name": "python3"
  },
  "language_info": {
   "codemirror_mode": {
    "name": "ipython",
    "version": 3
   },
   "file_extension": ".py",
   "mimetype": "text/x-python",
   "name": "python",
   "nbconvert_exporter": "python",
   "pygments_lexer": "ipython3",
   "version": "3.12.6"
  }
 },
 "nbformat": 4,
 "nbformat_minor": 5
}
